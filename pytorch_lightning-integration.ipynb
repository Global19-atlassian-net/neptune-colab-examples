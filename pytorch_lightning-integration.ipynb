{
  "nbformat": 4,
  "nbformat_minor": 0,
  "metadata": {
    "colab": {
      "name": "Untitled0.ipynb",
      "provenance": []
    },
    "kernelspec": {
      "name": "python3",
      "display_name": "Python 3"
    },
    "widgets": {
      "application/vnd.jupyter.widget-state+json": {
        "ba89ac8d1a484df8982c3a7893612063": {
          "model_module": "@jupyter-widgets/controls",
          "model_name": "HBoxModel",
          "state": {
            "_view_name": "HBoxView",
            "_dom_classes": [],
            "_model_name": "HBoxModel",
            "_view_module": "@jupyter-widgets/controls",
            "_model_module_version": "1.5.0",
            "_view_count": null,
            "_view_module_version": "1.5.0",
            "box_style": "",
            "layout": "IPY_MODEL_c13a6b3b97104d0bb5b192dce80cfd3e",
            "_model_module": "@jupyter-widgets/controls",
            "children": [
              "IPY_MODEL_c0563b7a2e8948fd9978bc9354ca6065",
              "IPY_MODEL_decaf1c07cae4c77b93cda67fe099e84"
            ]
          }
        },
        "c13a6b3b97104d0bb5b192dce80cfd3e": {
          "model_module": "@jupyter-widgets/base",
          "model_name": "LayoutModel",
          "state": {
            "_view_name": "LayoutView",
            "grid_template_rows": null,
            "right": null,
            "justify_content": null,
            "_view_module": "@jupyter-widgets/base",
            "overflow": null,
            "_model_module_version": "1.2.0",
            "_view_count": null,
            "flex_flow": "row wrap",
            "width": "100%",
            "min_width": null,
            "border": null,
            "align_items": null,
            "bottom": null,
            "_model_module": "@jupyter-widgets/base",
            "top": null,
            "grid_column": null,
            "overflow_y": null,
            "overflow_x": null,
            "grid_auto_flow": null,
            "grid_area": null,
            "grid_template_columns": null,
            "flex": null,
            "_model_name": "LayoutModel",
            "justify_items": null,
            "grid_row": null,
            "max_height": null,
            "align_content": null,
            "visibility": null,
            "align_self": null,
            "height": null,
            "min_height": null,
            "padding": null,
            "grid_auto_rows": null,
            "grid_gap": null,
            "max_width": null,
            "order": null,
            "_view_module_version": "1.2.0",
            "grid_template_areas": null,
            "object_position": null,
            "object_fit": null,
            "grid_auto_columns": null,
            "margin": null,
            "display": "inline-flex",
            "left": null
          }
        },
        "c0563b7a2e8948fd9978bc9354ca6065": {
          "model_module": "@jupyter-widgets/controls",
          "model_name": "FloatProgressModel",
          "state": {
            "_view_name": "ProgressView",
            "style": "IPY_MODEL_c0e4c494d7f1477ca12efba2d5d4fa0d",
            "_dom_classes": [],
            "description": "Epoch 7: 100%",
            "_model_name": "FloatProgressModel",
            "bar_style": "success",
            "max": 1875,
            "_view_module": "@jupyter-widgets/controls",
            "_model_module_version": "1.5.0",
            "value": 1875,
            "_view_count": null,
            "_view_module_version": "1.5.0",
            "orientation": "horizontal",
            "min": 0,
            "description_tooltip": null,
            "_model_module": "@jupyter-widgets/controls",
            "layout": "IPY_MODEL_66caa712c02441ee828d621a3e71de54"
          }
        },
        "decaf1c07cae4c77b93cda67fe099e84": {
          "model_module": "@jupyter-widgets/controls",
          "model_name": "HTMLModel",
          "state": {
            "_view_name": "HTMLView",
            "style": "IPY_MODEL_23cdc7027a414473aa7c2d0f9ca87fa8",
            "_dom_classes": [],
            "description": "",
            "_model_name": "HTMLModel",
            "placeholder": "​",
            "_view_module": "@jupyter-widgets/controls",
            "_model_module_version": "1.5.0",
            "value": " 1875/1875 [00:18&lt;00:00, 100.17it/s, loss=1.232, v_num=PYTOR-122]",
            "_view_count": null,
            "_view_module_version": "1.5.0",
            "description_tooltip": null,
            "_model_module": "@jupyter-widgets/controls",
            "layout": "IPY_MODEL_2da128bac24f45f8ab91a14f07b277ec"
          }
        },
        "c0e4c494d7f1477ca12efba2d5d4fa0d": {
          "model_module": "@jupyter-widgets/controls",
          "model_name": "ProgressStyleModel",
          "state": {
            "_view_name": "StyleView",
            "_model_name": "ProgressStyleModel",
            "description_width": "initial",
            "_view_module": "@jupyter-widgets/base",
            "_model_module_version": "1.5.0",
            "_view_count": null,
            "_view_module_version": "1.2.0",
            "bar_color": null,
            "_model_module": "@jupyter-widgets/controls"
          }
        },
        "66caa712c02441ee828d621a3e71de54": {
          "model_module": "@jupyter-widgets/base",
          "model_name": "LayoutModel",
          "state": {
            "_view_name": "LayoutView",
            "grid_template_rows": null,
            "right": null,
            "justify_content": null,
            "_view_module": "@jupyter-widgets/base",
            "overflow": null,
            "_model_module_version": "1.2.0",
            "_view_count": null,
            "flex_flow": null,
            "width": null,
            "min_width": null,
            "border": null,
            "align_items": null,
            "bottom": null,
            "_model_module": "@jupyter-widgets/base",
            "top": null,
            "grid_column": null,
            "overflow_y": null,
            "overflow_x": null,
            "grid_auto_flow": null,
            "grid_area": null,
            "grid_template_columns": null,
            "flex": "2",
            "_model_name": "LayoutModel",
            "justify_items": null,
            "grid_row": null,
            "max_height": null,
            "align_content": null,
            "visibility": null,
            "align_self": null,
            "height": null,
            "min_height": null,
            "padding": null,
            "grid_auto_rows": null,
            "grid_gap": null,
            "max_width": null,
            "order": null,
            "_view_module_version": "1.2.0",
            "grid_template_areas": null,
            "object_position": null,
            "object_fit": null,
            "grid_auto_columns": null,
            "margin": null,
            "display": null,
            "left": null
          }
        },
        "23cdc7027a414473aa7c2d0f9ca87fa8": {
          "model_module": "@jupyter-widgets/controls",
          "model_name": "DescriptionStyleModel",
          "state": {
            "_view_name": "StyleView",
            "_model_name": "DescriptionStyleModel",
            "description_width": "",
            "_view_module": "@jupyter-widgets/base",
            "_model_module_version": "1.5.0",
            "_view_count": null,
            "_view_module_version": "1.2.0",
            "_model_module": "@jupyter-widgets/controls"
          }
        },
        "2da128bac24f45f8ab91a14f07b277ec": {
          "model_module": "@jupyter-widgets/base",
          "model_name": "LayoutModel",
          "state": {
            "_view_name": "LayoutView",
            "grid_template_rows": null,
            "right": null,
            "justify_content": null,
            "_view_module": "@jupyter-widgets/base",
            "overflow": null,
            "_model_module_version": "1.2.0",
            "_view_count": null,
            "flex_flow": null,
            "width": null,
            "min_width": null,
            "border": null,
            "align_items": null,
            "bottom": null,
            "_model_module": "@jupyter-widgets/base",
            "top": null,
            "grid_column": null,
            "overflow_y": null,
            "overflow_x": null,
            "grid_auto_flow": null,
            "grid_area": null,
            "grid_template_columns": null,
            "flex": null,
            "_model_name": "LayoutModel",
            "justify_items": null,
            "grid_row": null,
            "max_height": null,
            "align_content": null,
            "visibility": null,
            "align_self": null,
            "height": null,
            "min_height": null,
            "padding": null,
            "grid_auto_rows": null,
            "grid_gap": null,
            "max_width": null,
            "order": null,
            "_view_module_version": "1.2.0",
            "grid_template_areas": null,
            "object_position": null,
            "object_fit": null,
            "grid_auto_columns": null,
            "margin": null,
            "display": null,
            "left": null
          }
        },
        "4ad8f9ca40b9434c809bb8320eaf880e": {
          "model_module": "@jupyter-widgets/controls",
          "model_name": "HBoxModel",
          "state": {
            "_view_name": "HBoxView",
            "_dom_classes": [],
            "_model_name": "HBoxModel",
            "_view_module": "@jupyter-widgets/controls",
            "_model_module_version": "1.5.0",
            "_view_count": null,
            "_view_module_version": "1.5.0",
            "box_style": "",
            "layout": "IPY_MODEL_0273d66512434d10bbb9a11401e83972",
            "_model_module": "@jupyter-widgets/controls",
            "children": [
              "IPY_MODEL_12a5f6c96bc3440da1190b534247193e",
              "IPY_MODEL_3d4296d82a534741be3416d621259e69"
            ]
          }
        },
        "0273d66512434d10bbb9a11401e83972": {
          "model_module": "@jupyter-widgets/base",
          "model_name": "LayoutModel",
          "state": {
            "_view_name": "LayoutView",
            "grid_template_rows": null,
            "right": null,
            "justify_content": null,
            "_view_module": "@jupyter-widgets/base",
            "overflow": null,
            "_model_module_version": "1.2.0",
            "_view_count": null,
            "flex_flow": null,
            "width": null,
            "min_width": null,
            "border": null,
            "align_items": null,
            "bottom": null,
            "_model_module": "@jupyter-widgets/base",
            "top": null,
            "grid_column": null,
            "overflow_y": null,
            "overflow_x": null,
            "grid_auto_flow": null,
            "grid_area": null,
            "grid_template_columns": null,
            "flex": null,
            "_model_name": "LayoutModel",
            "justify_items": null,
            "grid_row": null,
            "max_height": null,
            "align_content": null,
            "visibility": null,
            "align_self": null,
            "height": null,
            "min_height": null,
            "padding": null,
            "grid_auto_rows": null,
            "grid_gap": null,
            "max_width": null,
            "order": null,
            "_view_module_version": "1.2.0",
            "grid_template_areas": null,
            "object_position": null,
            "object_fit": null,
            "grid_auto_columns": null,
            "margin": null,
            "display": null,
            "left": null
          }
        },
        "12a5f6c96bc3440da1190b534247193e": {
          "model_module": "@jupyter-widgets/controls",
          "model_name": "FloatProgressModel",
          "state": {
            "_view_name": "ProgressView",
            "style": "IPY_MODEL_93ecc7bd7d194062a2b10b5d6498f323",
            "_dom_classes": [],
            "description": "",
            "_model_name": "FloatProgressModel",
            "bar_style": "success",
            "max": 1,
            "_view_module": "@jupyter-widgets/controls",
            "_model_module_version": "1.5.0",
            "value": 1,
            "_view_count": null,
            "_view_module_version": "1.5.0",
            "orientation": "horizontal",
            "min": 0,
            "description_tooltip": null,
            "_model_module": "@jupyter-widgets/controls",
            "layout": "IPY_MODEL_ce82c5ef3840466e84bc4f76e6b15a5b"
          }
        },
        "3d4296d82a534741be3416d621259e69": {
          "model_module": "@jupyter-widgets/controls",
          "model_name": "HTMLModel",
          "state": {
            "_view_name": "HTMLView",
            "style": "IPY_MODEL_7f657e4fe7414f579d1a0fcf72030869",
            "_dom_classes": [],
            "description": "",
            "_model_name": "HTMLModel",
            "placeholder": "​",
            "_view_module": "@jupyter-widgets/controls",
            "_model_module_version": "1.5.0",
            "value": " 9920512/? [00:01&lt;00:00, 6969343.53it/s]",
            "_view_count": null,
            "_view_module_version": "1.5.0",
            "description_tooltip": null,
            "_model_module": "@jupyter-widgets/controls",
            "layout": "IPY_MODEL_ecf95e257ab3486abe8d6e4b6c61f118"
          }
        },
        "93ecc7bd7d194062a2b10b5d6498f323": {
          "model_module": "@jupyter-widgets/controls",
          "model_name": "ProgressStyleModel",
          "state": {
            "_view_name": "StyleView",
            "_model_name": "ProgressStyleModel",
            "description_width": "initial",
            "_view_module": "@jupyter-widgets/base",
            "_model_module_version": "1.5.0",
            "_view_count": null,
            "_view_module_version": "1.2.0",
            "bar_color": null,
            "_model_module": "@jupyter-widgets/controls"
          }
        },
        "ce82c5ef3840466e84bc4f76e6b15a5b": {
          "model_module": "@jupyter-widgets/base",
          "model_name": "LayoutModel",
          "state": {
            "_view_name": "LayoutView",
            "grid_template_rows": null,
            "right": null,
            "justify_content": null,
            "_view_module": "@jupyter-widgets/base",
            "overflow": null,
            "_model_module_version": "1.2.0",
            "_view_count": null,
            "flex_flow": null,
            "width": null,
            "min_width": null,
            "border": null,
            "align_items": null,
            "bottom": null,
            "_model_module": "@jupyter-widgets/base",
            "top": null,
            "grid_column": null,
            "overflow_y": null,
            "overflow_x": null,
            "grid_auto_flow": null,
            "grid_area": null,
            "grid_template_columns": null,
            "flex": null,
            "_model_name": "LayoutModel",
            "justify_items": null,
            "grid_row": null,
            "max_height": null,
            "align_content": null,
            "visibility": null,
            "align_self": null,
            "height": null,
            "min_height": null,
            "padding": null,
            "grid_auto_rows": null,
            "grid_gap": null,
            "max_width": null,
            "order": null,
            "_view_module_version": "1.2.0",
            "grid_template_areas": null,
            "object_position": null,
            "object_fit": null,
            "grid_auto_columns": null,
            "margin": null,
            "display": null,
            "left": null
          }
        },
        "7f657e4fe7414f579d1a0fcf72030869": {
          "model_module": "@jupyter-widgets/controls",
          "model_name": "DescriptionStyleModel",
          "state": {
            "_view_name": "StyleView",
            "_model_name": "DescriptionStyleModel",
            "description_width": "",
            "_view_module": "@jupyter-widgets/base",
            "_model_module_version": "1.5.0",
            "_view_count": null,
            "_view_module_version": "1.2.0",
            "_model_module": "@jupyter-widgets/controls"
          }
        },
        "ecf95e257ab3486abe8d6e4b6c61f118": {
          "model_module": "@jupyter-widgets/base",
          "model_name": "LayoutModel",
          "state": {
            "_view_name": "LayoutView",
            "grid_template_rows": null,
            "right": null,
            "justify_content": null,
            "_view_module": "@jupyter-widgets/base",
            "overflow": null,
            "_model_module_version": "1.2.0",
            "_view_count": null,
            "flex_flow": null,
            "width": null,
            "min_width": null,
            "border": null,
            "align_items": null,
            "bottom": null,
            "_model_module": "@jupyter-widgets/base",
            "top": null,
            "grid_column": null,
            "overflow_y": null,
            "overflow_x": null,
            "grid_auto_flow": null,
            "grid_area": null,
            "grid_template_columns": null,
            "flex": null,
            "_model_name": "LayoutModel",
            "justify_items": null,
            "grid_row": null,
            "max_height": null,
            "align_content": null,
            "visibility": null,
            "align_self": null,
            "height": null,
            "min_height": null,
            "padding": null,
            "grid_auto_rows": null,
            "grid_gap": null,
            "max_width": null,
            "order": null,
            "_view_module_version": "1.2.0",
            "grid_template_areas": null,
            "object_position": null,
            "object_fit": null,
            "grid_auto_columns": null,
            "margin": null,
            "display": null,
            "left": null
          }
        },
        "6a94ff719378494989cff5ab48c3a5cf": {
          "model_module": "@jupyter-widgets/controls",
          "model_name": "HBoxModel",
          "state": {
            "_view_name": "HBoxView",
            "_dom_classes": [],
            "_model_name": "HBoxModel",
            "_view_module": "@jupyter-widgets/controls",
            "_model_module_version": "1.5.0",
            "_view_count": null,
            "_view_module_version": "1.5.0",
            "box_style": "",
            "layout": "IPY_MODEL_d920dd3a4fd24bc0a542f2f61b9833a2",
            "_model_module": "@jupyter-widgets/controls",
            "children": [
              "IPY_MODEL_fe01222bf018498a899d97eb8a992400",
              "IPY_MODEL_b822595237fb402d9a6adae103a6a5cd"
            ]
          }
        },
        "d920dd3a4fd24bc0a542f2f61b9833a2": {
          "model_module": "@jupyter-widgets/base",
          "model_name": "LayoutModel",
          "state": {
            "_view_name": "LayoutView",
            "grid_template_rows": null,
            "right": null,
            "justify_content": null,
            "_view_module": "@jupyter-widgets/base",
            "overflow": null,
            "_model_module_version": "1.2.0",
            "_view_count": null,
            "flex_flow": null,
            "width": null,
            "min_width": null,
            "border": null,
            "align_items": null,
            "bottom": null,
            "_model_module": "@jupyter-widgets/base",
            "top": null,
            "grid_column": null,
            "overflow_y": null,
            "overflow_x": null,
            "grid_auto_flow": null,
            "grid_area": null,
            "grid_template_columns": null,
            "flex": null,
            "_model_name": "LayoutModel",
            "justify_items": null,
            "grid_row": null,
            "max_height": null,
            "align_content": null,
            "visibility": null,
            "align_self": null,
            "height": null,
            "min_height": null,
            "padding": null,
            "grid_auto_rows": null,
            "grid_gap": null,
            "max_width": null,
            "order": null,
            "_view_module_version": "1.2.0",
            "grid_template_areas": null,
            "object_position": null,
            "object_fit": null,
            "grid_auto_columns": null,
            "margin": null,
            "display": null,
            "left": null
          }
        },
        "fe01222bf018498a899d97eb8a992400": {
          "model_module": "@jupyter-widgets/controls",
          "model_name": "FloatProgressModel",
          "state": {
            "_view_name": "ProgressView",
            "style": "IPY_MODEL_fbe67705da6e4009b16de22718d14b4a",
            "_dom_classes": [],
            "description": "  0%",
            "_model_name": "FloatProgressModel",
            "bar_style": "info",
            "max": 1,
            "_view_module": "@jupyter-widgets/controls",
            "_model_module_version": "1.5.0",
            "value": 0,
            "_view_count": null,
            "_view_module_version": "1.5.0",
            "orientation": "horizontal",
            "min": 0,
            "description_tooltip": null,
            "_model_module": "@jupyter-widgets/controls",
            "layout": "IPY_MODEL_b280c8ec9fde4027aa6160ccabdd1168"
          }
        },
        "b822595237fb402d9a6adae103a6a5cd": {
          "model_module": "@jupyter-widgets/controls",
          "model_name": "HTMLModel",
          "state": {
            "_view_name": "HTMLView",
            "style": "IPY_MODEL_509ab2788f8345fca1ea48d2069d0ab6",
            "_dom_classes": [],
            "description": "",
            "_model_name": "HTMLModel",
            "placeholder": "​",
            "_view_module": "@jupyter-widgets/controls",
            "_model_module_version": "1.5.0",
            "value": " 0/28881 [00:00&lt;?, ?it/s]",
            "_view_count": null,
            "_view_module_version": "1.5.0",
            "description_tooltip": null,
            "_model_module": "@jupyter-widgets/controls",
            "layout": "IPY_MODEL_11083e4a55114a9e88196a53f26c8684"
          }
        },
        "fbe67705da6e4009b16de22718d14b4a": {
          "model_module": "@jupyter-widgets/controls",
          "model_name": "ProgressStyleModel",
          "state": {
            "_view_name": "StyleView",
            "_model_name": "ProgressStyleModel",
            "description_width": "initial",
            "_view_module": "@jupyter-widgets/base",
            "_model_module_version": "1.5.0",
            "_view_count": null,
            "_view_module_version": "1.2.0",
            "bar_color": null,
            "_model_module": "@jupyter-widgets/controls"
          }
        },
        "b280c8ec9fde4027aa6160ccabdd1168": {
          "model_module": "@jupyter-widgets/base",
          "model_name": "LayoutModel",
          "state": {
            "_view_name": "LayoutView",
            "grid_template_rows": null,
            "right": null,
            "justify_content": null,
            "_view_module": "@jupyter-widgets/base",
            "overflow": null,
            "_model_module_version": "1.2.0",
            "_view_count": null,
            "flex_flow": null,
            "width": null,
            "min_width": null,
            "border": null,
            "align_items": null,
            "bottom": null,
            "_model_module": "@jupyter-widgets/base",
            "top": null,
            "grid_column": null,
            "overflow_y": null,
            "overflow_x": null,
            "grid_auto_flow": null,
            "grid_area": null,
            "grid_template_columns": null,
            "flex": null,
            "_model_name": "LayoutModel",
            "justify_items": null,
            "grid_row": null,
            "max_height": null,
            "align_content": null,
            "visibility": null,
            "align_self": null,
            "height": null,
            "min_height": null,
            "padding": null,
            "grid_auto_rows": null,
            "grid_gap": null,
            "max_width": null,
            "order": null,
            "_view_module_version": "1.2.0",
            "grid_template_areas": null,
            "object_position": null,
            "object_fit": null,
            "grid_auto_columns": null,
            "margin": null,
            "display": null,
            "left": null
          }
        },
        "509ab2788f8345fca1ea48d2069d0ab6": {
          "model_module": "@jupyter-widgets/controls",
          "model_name": "DescriptionStyleModel",
          "state": {
            "_view_name": "StyleView",
            "_model_name": "DescriptionStyleModel",
            "description_width": "",
            "_view_module": "@jupyter-widgets/base",
            "_model_module_version": "1.5.0",
            "_view_count": null,
            "_view_module_version": "1.2.0",
            "_model_module": "@jupyter-widgets/controls"
          }
        },
        "11083e4a55114a9e88196a53f26c8684": {
          "model_module": "@jupyter-widgets/base",
          "model_name": "LayoutModel",
          "state": {
            "_view_name": "LayoutView",
            "grid_template_rows": null,
            "right": null,
            "justify_content": null,
            "_view_module": "@jupyter-widgets/base",
            "overflow": null,
            "_model_module_version": "1.2.0",
            "_view_count": null,
            "flex_flow": null,
            "width": null,
            "min_width": null,
            "border": null,
            "align_items": null,
            "bottom": null,
            "_model_module": "@jupyter-widgets/base",
            "top": null,
            "grid_column": null,
            "overflow_y": null,
            "overflow_x": null,
            "grid_auto_flow": null,
            "grid_area": null,
            "grid_template_columns": null,
            "flex": null,
            "_model_name": "LayoutModel",
            "justify_items": null,
            "grid_row": null,
            "max_height": null,
            "align_content": null,
            "visibility": null,
            "align_self": null,
            "height": null,
            "min_height": null,
            "padding": null,
            "grid_auto_rows": null,
            "grid_gap": null,
            "max_width": null,
            "order": null,
            "_view_module_version": "1.2.0",
            "grid_template_areas": null,
            "object_position": null,
            "object_fit": null,
            "grid_auto_columns": null,
            "margin": null,
            "display": null,
            "left": null
          }
        },
        "74e02a36f2a54e7ebd3b3b00274d0fce": {
          "model_module": "@jupyter-widgets/controls",
          "model_name": "HBoxModel",
          "state": {
            "_view_name": "HBoxView",
            "_dom_classes": [],
            "_model_name": "HBoxModel",
            "_view_module": "@jupyter-widgets/controls",
            "_model_module_version": "1.5.0",
            "_view_count": null,
            "_view_module_version": "1.5.0",
            "box_style": "",
            "layout": "IPY_MODEL_0f44e8ac4bc646428843cd047a7072ce",
            "_model_module": "@jupyter-widgets/controls",
            "children": [
              "IPY_MODEL_b950ad13f0ca4d80bb3dca375f7442a0",
              "IPY_MODEL_84beace795f2438fb559fc8f4e1ed506"
            ]
          }
        },
        "0f44e8ac4bc646428843cd047a7072ce": {
          "model_module": "@jupyter-widgets/base",
          "model_name": "LayoutModel",
          "state": {
            "_view_name": "LayoutView",
            "grid_template_rows": null,
            "right": null,
            "justify_content": null,
            "_view_module": "@jupyter-widgets/base",
            "overflow": null,
            "_model_module_version": "1.2.0",
            "_view_count": null,
            "flex_flow": null,
            "width": null,
            "min_width": null,
            "border": null,
            "align_items": null,
            "bottom": null,
            "_model_module": "@jupyter-widgets/base",
            "top": null,
            "grid_column": null,
            "overflow_y": null,
            "overflow_x": null,
            "grid_auto_flow": null,
            "grid_area": null,
            "grid_template_columns": null,
            "flex": null,
            "_model_name": "LayoutModel",
            "justify_items": null,
            "grid_row": null,
            "max_height": null,
            "align_content": null,
            "visibility": null,
            "align_self": null,
            "height": null,
            "min_height": null,
            "padding": null,
            "grid_auto_rows": null,
            "grid_gap": null,
            "max_width": null,
            "order": null,
            "_view_module_version": "1.2.0",
            "grid_template_areas": null,
            "object_position": null,
            "object_fit": null,
            "grid_auto_columns": null,
            "margin": null,
            "display": null,
            "left": null
          }
        },
        "b950ad13f0ca4d80bb3dca375f7442a0": {
          "model_module": "@jupyter-widgets/controls",
          "model_name": "FloatProgressModel",
          "state": {
            "_view_name": "ProgressView",
            "style": "IPY_MODEL_54f93b1aa7404964ae93a32bfae2a9ff",
            "_dom_classes": [],
            "description": "",
            "_model_name": "FloatProgressModel",
            "bar_style": "success",
            "max": 1,
            "_view_module": "@jupyter-widgets/controls",
            "_model_module_version": "1.5.0",
            "value": 1,
            "_view_count": null,
            "_view_module_version": "1.5.0",
            "orientation": "horizontal",
            "min": 0,
            "description_tooltip": null,
            "_model_module": "@jupyter-widgets/controls",
            "layout": "IPY_MODEL_b56e9e4063cf48dc9e67c004ace5b8ce"
          }
        },
        "84beace795f2438fb559fc8f4e1ed506": {
          "model_module": "@jupyter-widgets/controls",
          "model_name": "HTMLModel",
          "state": {
            "_view_name": "HTMLView",
            "style": "IPY_MODEL_9e8bba26d9574ebb9b9591c46bf4a1b1",
            "_dom_classes": [],
            "description": "",
            "_model_name": "HTMLModel",
            "placeholder": "​",
            "_view_module": "@jupyter-widgets/controls",
            "_model_module_version": "1.5.0",
            "value": " 1654784/? [00:01&lt;00:00, 1524578.98it/s]",
            "_view_count": null,
            "_view_module_version": "1.5.0",
            "description_tooltip": null,
            "_model_module": "@jupyter-widgets/controls",
            "layout": "IPY_MODEL_bdceecbff7024109b6a6a1e11723107a"
          }
        },
        "54f93b1aa7404964ae93a32bfae2a9ff": {
          "model_module": "@jupyter-widgets/controls",
          "model_name": "ProgressStyleModel",
          "state": {
            "_view_name": "StyleView",
            "_model_name": "ProgressStyleModel",
            "description_width": "initial",
            "_view_module": "@jupyter-widgets/base",
            "_model_module_version": "1.5.0",
            "_view_count": null,
            "_view_module_version": "1.2.0",
            "bar_color": null,
            "_model_module": "@jupyter-widgets/controls"
          }
        },
        "b56e9e4063cf48dc9e67c004ace5b8ce": {
          "model_module": "@jupyter-widgets/base",
          "model_name": "LayoutModel",
          "state": {
            "_view_name": "LayoutView",
            "grid_template_rows": null,
            "right": null,
            "justify_content": null,
            "_view_module": "@jupyter-widgets/base",
            "overflow": null,
            "_model_module_version": "1.2.0",
            "_view_count": null,
            "flex_flow": null,
            "width": null,
            "min_width": null,
            "border": null,
            "align_items": null,
            "bottom": null,
            "_model_module": "@jupyter-widgets/base",
            "top": null,
            "grid_column": null,
            "overflow_y": null,
            "overflow_x": null,
            "grid_auto_flow": null,
            "grid_area": null,
            "grid_template_columns": null,
            "flex": null,
            "_model_name": "LayoutModel",
            "justify_items": null,
            "grid_row": null,
            "max_height": null,
            "align_content": null,
            "visibility": null,
            "align_self": null,
            "height": null,
            "min_height": null,
            "padding": null,
            "grid_auto_rows": null,
            "grid_gap": null,
            "max_width": null,
            "order": null,
            "_view_module_version": "1.2.0",
            "grid_template_areas": null,
            "object_position": null,
            "object_fit": null,
            "grid_auto_columns": null,
            "margin": null,
            "display": null,
            "left": null
          }
        },
        "9e8bba26d9574ebb9b9591c46bf4a1b1": {
          "model_module": "@jupyter-widgets/controls",
          "model_name": "DescriptionStyleModel",
          "state": {
            "_view_name": "StyleView",
            "_model_name": "DescriptionStyleModel",
            "description_width": "",
            "_view_module": "@jupyter-widgets/base",
            "_model_module_version": "1.5.0",
            "_view_count": null,
            "_view_module_version": "1.2.0",
            "_model_module": "@jupyter-widgets/controls"
          }
        },
        "bdceecbff7024109b6a6a1e11723107a": {
          "model_module": "@jupyter-widgets/base",
          "model_name": "LayoutModel",
          "state": {
            "_view_name": "LayoutView",
            "grid_template_rows": null,
            "right": null,
            "justify_content": null,
            "_view_module": "@jupyter-widgets/base",
            "overflow": null,
            "_model_module_version": "1.2.0",
            "_view_count": null,
            "flex_flow": null,
            "width": null,
            "min_width": null,
            "border": null,
            "align_items": null,
            "bottom": null,
            "_model_module": "@jupyter-widgets/base",
            "top": null,
            "grid_column": null,
            "overflow_y": null,
            "overflow_x": null,
            "grid_auto_flow": null,
            "grid_area": null,
            "grid_template_columns": null,
            "flex": null,
            "_model_name": "LayoutModel",
            "justify_items": null,
            "grid_row": null,
            "max_height": null,
            "align_content": null,
            "visibility": null,
            "align_self": null,
            "height": null,
            "min_height": null,
            "padding": null,
            "grid_auto_rows": null,
            "grid_gap": null,
            "max_width": null,
            "order": null,
            "_view_module_version": "1.2.0",
            "grid_template_areas": null,
            "object_position": null,
            "object_fit": null,
            "grid_auto_columns": null,
            "margin": null,
            "display": null,
            "left": null
          }
        },
        "8eea965837be4b468bbb852e18d8dde6": {
          "model_module": "@jupyter-widgets/controls",
          "model_name": "HBoxModel",
          "state": {
            "_view_name": "HBoxView",
            "_dom_classes": [],
            "_model_name": "HBoxModel",
            "_view_module": "@jupyter-widgets/controls",
            "_model_module_version": "1.5.0",
            "_view_count": null,
            "_view_module_version": "1.5.0",
            "box_style": "",
            "layout": "IPY_MODEL_822b579efc5f4e6f90e9d1f025334f7a",
            "_model_module": "@jupyter-widgets/controls",
            "children": [
              "IPY_MODEL_9c9c27cb7dba44e0a9425ccec5dc05d0",
              "IPY_MODEL_6c22d754f0c04ab683e33ccde7b34f82"
            ]
          }
        },
        "822b579efc5f4e6f90e9d1f025334f7a": {
          "model_module": "@jupyter-widgets/base",
          "model_name": "LayoutModel",
          "state": {
            "_view_name": "LayoutView",
            "grid_template_rows": null,
            "right": null,
            "justify_content": null,
            "_view_module": "@jupyter-widgets/base",
            "overflow": null,
            "_model_module_version": "1.2.0",
            "_view_count": null,
            "flex_flow": null,
            "width": null,
            "min_width": null,
            "border": null,
            "align_items": null,
            "bottom": null,
            "_model_module": "@jupyter-widgets/base",
            "top": null,
            "grid_column": null,
            "overflow_y": null,
            "overflow_x": null,
            "grid_auto_flow": null,
            "grid_area": null,
            "grid_template_columns": null,
            "flex": null,
            "_model_name": "LayoutModel",
            "justify_items": null,
            "grid_row": null,
            "max_height": null,
            "align_content": null,
            "visibility": null,
            "align_self": null,
            "height": null,
            "min_height": null,
            "padding": null,
            "grid_auto_rows": null,
            "grid_gap": null,
            "max_width": null,
            "order": null,
            "_view_module_version": "1.2.0",
            "grid_template_areas": null,
            "object_position": null,
            "object_fit": null,
            "grid_auto_columns": null,
            "margin": null,
            "display": null,
            "left": null
          }
        },
        "9c9c27cb7dba44e0a9425ccec5dc05d0": {
          "model_module": "@jupyter-widgets/controls",
          "model_name": "FloatProgressModel",
          "state": {
            "_view_name": "ProgressView",
            "style": "IPY_MODEL_59915949271044d68f7df41436f03625",
            "_dom_classes": [],
            "description": "",
            "_model_name": "FloatProgressModel",
            "bar_style": "success",
            "max": 1,
            "_view_module": "@jupyter-widgets/controls",
            "_model_module_version": "1.5.0",
            "value": 1,
            "_view_count": null,
            "_view_module_version": "1.5.0",
            "orientation": "horizontal",
            "min": 0,
            "description_tooltip": null,
            "_model_module": "@jupyter-widgets/controls",
            "layout": "IPY_MODEL_3512f48f7b674367a93b346b67431a38"
          }
        },
        "6c22d754f0c04ab683e33ccde7b34f82": {
          "model_module": "@jupyter-widgets/controls",
          "model_name": "HTMLModel",
          "state": {
            "_view_name": "HTMLView",
            "style": "IPY_MODEL_85aca891429d4943be2d8dd02cf342b3",
            "_dom_classes": [],
            "description": "",
            "_model_name": "HTMLModel",
            "placeholder": "​",
            "_view_module": "@jupyter-widgets/controls",
            "_model_module_version": "1.5.0",
            "value": " 8192/? [00:00&lt;00:00, 21719.58it/s]",
            "_view_count": null,
            "_view_module_version": "1.5.0",
            "description_tooltip": null,
            "_model_module": "@jupyter-widgets/controls",
            "layout": "IPY_MODEL_b239f7cc9624462e889a329eb763cb07"
          }
        },
        "59915949271044d68f7df41436f03625": {
          "model_module": "@jupyter-widgets/controls",
          "model_name": "ProgressStyleModel",
          "state": {
            "_view_name": "StyleView",
            "_model_name": "ProgressStyleModel",
            "description_width": "initial",
            "_view_module": "@jupyter-widgets/base",
            "_model_module_version": "1.5.0",
            "_view_count": null,
            "_view_module_version": "1.2.0",
            "bar_color": null,
            "_model_module": "@jupyter-widgets/controls"
          }
        },
        "3512f48f7b674367a93b346b67431a38": {
          "model_module": "@jupyter-widgets/base",
          "model_name": "LayoutModel",
          "state": {
            "_view_name": "LayoutView",
            "grid_template_rows": null,
            "right": null,
            "justify_content": null,
            "_view_module": "@jupyter-widgets/base",
            "overflow": null,
            "_model_module_version": "1.2.0",
            "_view_count": null,
            "flex_flow": null,
            "width": null,
            "min_width": null,
            "border": null,
            "align_items": null,
            "bottom": null,
            "_model_module": "@jupyter-widgets/base",
            "top": null,
            "grid_column": null,
            "overflow_y": null,
            "overflow_x": null,
            "grid_auto_flow": null,
            "grid_area": null,
            "grid_template_columns": null,
            "flex": null,
            "_model_name": "LayoutModel",
            "justify_items": null,
            "grid_row": null,
            "max_height": null,
            "align_content": null,
            "visibility": null,
            "align_self": null,
            "height": null,
            "min_height": null,
            "padding": null,
            "grid_auto_rows": null,
            "grid_gap": null,
            "max_width": null,
            "order": null,
            "_view_module_version": "1.2.0",
            "grid_template_areas": null,
            "object_position": null,
            "object_fit": null,
            "grid_auto_columns": null,
            "margin": null,
            "display": null,
            "left": null
          }
        },
        "85aca891429d4943be2d8dd02cf342b3": {
          "model_module": "@jupyter-widgets/controls",
          "model_name": "DescriptionStyleModel",
          "state": {
            "_view_name": "StyleView",
            "_model_name": "DescriptionStyleModel",
            "description_width": "",
            "_view_module": "@jupyter-widgets/base",
            "_model_module_version": "1.5.0",
            "_view_count": null,
            "_view_module_version": "1.2.0",
            "_model_module": "@jupyter-widgets/controls"
          }
        },
        "b239f7cc9624462e889a329eb763cb07": {
          "model_module": "@jupyter-widgets/base",
          "model_name": "LayoutModel",
          "state": {
            "_view_name": "LayoutView",
            "grid_template_rows": null,
            "right": null,
            "justify_content": null,
            "_view_module": "@jupyter-widgets/base",
            "overflow": null,
            "_model_module_version": "1.2.0",
            "_view_count": null,
            "flex_flow": null,
            "width": null,
            "min_width": null,
            "border": null,
            "align_items": null,
            "bottom": null,
            "_model_module": "@jupyter-widgets/base",
            "top": null,
            "grid_column": null,
            "overflow_y": null,
            "overflow_x": null,
            "grid_auto_flow": null,
            "grid_area": null,
            "grid_template_columns": null,
            "flex": null,
            "_model_name": "LayoutModel",
            "justify_items": null,
            "grid_row": null,
            "max_height": null,
            "align_content": null,
            "visibility": null,
            "align_self": null,
            "height": null,
            "min_height": null,
            "padding": null,
            "grid_auto_rows": null,
            "grid_gap": null,
            "max_width": null,
            "order": null,
            "_view_module_version": "1.2.0",
            "grid_template_areas": null,
            "object_position": null,
            "object_fit": null,
            "grid_auto_columns": null,
            "margin": null,
            "display": null,
            "left": null
          }
        }
      }
    }
  },
  "cells": [
    {
      "cell_type": "markdown",
      "metadata": {
        "id": "QXGSKS1u0n8x",
        "colab_type": "text"
      },
      "source": [
        "# PyTorch Lightning + Neptune\n",
        "\n",
        "Neptune helps you keep track of your machine learning experiments and if you are using PyTorch Lightning you can add tracking very easily. \n",
        "\n",
        "Let me show you how.\n",
        "\n",
        "### Install dependencies \n",
        "\n",
        "Not all of those are a must but I wanted to show more cool stuff."
      ]
    },
    {
      "cell_type": "code",
      "metadata": {
        "id": "DO7yawFVxVIt",
        "colab_type": "code",
        "colab": {}
      },
      "source": [
        "pip install pytorch-lightning neptune-client neptune-contrib[viz] --upgrade"
      ],
      "execution_count": 0,
      "outputs": []
    },
    {
      "cell_type": "markdown",
      "metadata": {
        "id": "rf3FmHL11R0r",
        "colab_type": "text"
      },
      "source": [
        "# Basic Example\n",
        "\n",
        "## Define LightningModule\n",
        "\n",
        "This is your typical `pl.LightningModule` with required methods defined. Nothing new here."
      ]
    },
    {
      "cell_type": "code",
      "metadata": {
        "id": "ljhFSnypxdUW",
        "colab_type": "code",
        "colab": {}
      },
      "source": [
        "import os\n",
        "\n",
        "import torch\n",
        "from torch.nn import functional as F\n",
        "from torch.utils.data import DataLoader\n",
        "from torchvision.datasets import MNIST\n",
        "from torchvision import transforms\n",
        "\n",
        "import pytorch_lightning as pl\n",
        "\n",
        "MAX_EPOCHS=3\n",
        "LR=0.02\n",
        "BATCHSIZE=32\n",
        "\n",
        "class BasicSystem(pl.LightningModule):\n",
        "\n",
        "    def __init__(self):\n",
        "        super(BasicSystem, self).__init__()\n",
        "        # not the best model...\n",
        "        self.l1 = torch.nn.Linear(28 * 28, 10)\n",
        "\n",
        "    def forward(self, x):\n",
        "        return torch.relu(self.l1(x.view(x.size(0), -1)))\n",
        "\n",
        "    def training_step(self, batch, batch_idx):\n",
        "        # REQUIRED\n",
        "        x, y = batch\n",
        "        y_hat = self.forward(x)\n",
        "        loss = F.cross_entropy(y_hat, y)\n",
        "        tensorboard_logs = {'train_loss': loss}\n",
        "        return {'loss': loss, 'log': tensorboard_logs}\n",
        "\n",
        "    def configure_optimizers(self):\n",
        "        # REQUIRED\n",
        "        # can return multiple optimizers and learning_rate schedulers\n",
        "        # (LBFGS it is automatically supported, no need for closure function)\n",
        "        return torch.optim.Adam(self.parameters(), lr=LR)\n",
        "\n",
        "    @pl.data_loader\n",
        "    def train_dataloader(self):\n",
        "        # REQUIRED\n",
        "        return DataLoader(MNIST(os.getcwd(), train=True, download=True, transform=transforms.ToTensor()), batch_size=BATCHSIZE)"
      ],
      "execution_count": 0,
      "outputs": []
    },
    {
      "cell_type": "markdown",
      "metadata": {
        "id": "AW4MM4qj5ErX",
        "colab_type": "text"
      },
      "source": [
        "## Create NeptuneLogger\n",
        "\n",
        "`NeptuneLogger` is your connection to [Neptune service](https://neptune.ai). \n",
        "\n",
        "You need to specify your `api_token` and decide to which project you want to track your experiments by defining `project_name`.\n",
        "\n",
        "In this tutorial, I will use an open project \"shared/pytoch-lightning-integration\" and a token that belongs to the anonymous user \"neptuner\"."
      ]
    },
    {
      "cell_type": "code",
      "metadata": {
        "id": "GvDSBSrOx-R4",
        "colab_type": "code",
        "outputId": "667d1b2f-cdef-44f0-f505-832205dea223",
        "colab": {
          "base_uri": "https://localhost:8080/",
          "height": 71
        }
      },
      "source": [
        "from pytorch_lightning.loggers.neptune import NeptuneLogger\n",
        "\n",
        "neptune_logger = NeptuneLogger(\n",
        "    api_key=\"ANONYMOUS\",\n",
        "    project_name=\"shared/pytorch-lightning-integration\")"
      ],
      "execution_count": 0,
      "outputs": [
        {
          "output_type": "stream",
          "text": [
            "WARNING:neptune.internal.backends.credentials:WARNING: It is not secure to place API token in your source code. You should treat it as a password to your account. It is strongly recommended to use NEPTUNE_API_TOKEN environment variable instead. Remember not to upload source file with API token to any public repository.\n",
            "INFO:lightning:NeptuneLogger was initialized in online mode\n"
          ],
          "name": "stderr"
        }
      ]
    },
    {
      "cell_type": "markdown",
      "metadata": {
        "id": "UphOuRMm5sZs",
        "colab_type": "text"
      },
      "source": [
        "## Pass neptune_logger to Trainer\n",
        "\n",
        "Now that you have your neptune_logger instantiated you simply need to pass it to the `Trainer`and run your .fit loop."
      ]
    },
    {
      "cell_type": "code",
      "metadata": {
        "id": "3u_Kb86BzWzq",
        "colab_type": "code",
        "outputId": "120f001e-e748-4fa1-8405-8e5d3c3dfd16",
        "colab": {
          "base_uri": "https://localhost:8080/",
          "height": 571,
          "referenced_widgets": [
            "ba89ac8d1a484df8982c3a7893612063",
            "c13a6b3b97104d0bb5b192dce80cfd3e",
            "c0563b7a2e8948fd9978bc9354ca6065",
            "decaf1c07cae4c77b93cda67fe099e84",
            "c0e4c494d7f1477ca12efba2d5d4fa0d",
            "66caa712c02441ee828d621a3e71de54",
            "23cdc7027a414473aa7c2d0f9ca87fa8",
            "2da128bac24f45f8ab91a14f07b277ec",
            "4ad8f9ca40b9434c809bb8320eaf880e",
            "0273d66512434d10bbb9a11401e83972",
            "12a5f6c96bc3440da1190b534247193e",
            "3d4296d82a534741be3416d621259e69",
            "93ecc7bd7d194062a2b10b5d6498f323",
            "ce82c5ef3840466e84bc4f76e6b15a5b",
            "7f657e4fe7414f579d1a0fcf72030869",
            "ecf95e257ab3486abe8d6e4b6c61f118",
            "6a94ff719378494989cff5ab48c3a5cf",
            "d920dd3a4fd24bc0a542f2f61b9833a2",
            "fe01222bf018498a899d97eb8a992400",
            "b822595237fb402d9a6adae103a6a5cd",
            "fbe67705da6e4009b16de22718d14b4a",
            "b280c8ec9fde4027aa6160ccabdd1168",
            "509ab2788f8345fca1ea48d2069d0ab6",
            "11083e4a55114a9e88196a53f26c8684",
            "74e02a36f2a54e7ebd3b3b00274d0fce",
            "0f44e8ac4bc646428843cd047a7072ce",
            "b950ad13f0ca4d80bb3dca375f7442a0",
            "84beace795f2438fb559fc8f4e1ed506",
            "54f93b1aa7404964ae93a32bfae2a9ff",
            "b56e9e4063cf48dc9e67c004ace5b8ce",
            "9e8bba26d9574ebb9b9591c46bf4a1b1",
            "bdceecbff7024109b6a6a1e11723107a",
            "8eea965837be4b468bbb852e18d8dde6",
            "822b579efc5f4e6f90e9d1f025334f7a",
            "9c9c27cb7dba44e0a9425ccec5dc05d0",
            "6c22d754f0c04ab683e33ccde7b34f82",
            "59915949271044d68f7df41436f03625",
            "3512f48f7b674367a93b346b67431a38",
            "85aca891429d4943be2d8dd02cf342b3",
            "b239f7cc9624462e889a329eb763cb07"
          ]
        }
      },
      "source": [
        "from pytorch_lightning import Trainer\n",
        "\n",
        "basic_model = BasicSystem()\n",
        "trainer = Trainer(max_epochs=MAX_EPOCHS,\n",
        "                  logger=neptune_logger,\n",
        "                  )\n",
        "trainer.fit(basic_model)"
      ],
      "execution_count": 0,
      "outputs": [
        {
          "output_type": "stream",
          "text": [
            "INFO:lightning:\n",
            "  | Name | Type   | Params\n",
            "----------------------------\n",
            "0 | l1   | Linear | 7 K   \n"
          ],
          "name": "stderr"
        },
        {
          "output_type": "stream",
          "text": [
            "https://ui.neptune.ai/shared/pytorch-lightning-integration/e/PYTOR-122\n"
          ],
          "name": "stdout"
        },
        {
          "output_type": "display_data",
          "data": {
            "application/vnd.jupyter.widget-view+json": {
              "model_id": "ba89ac8d1a484df8982c3a7893612063",
              "version_minor": 0,
              "version_major": 2
            },
            "text/plain": [
              "HBox(children=(FloatProgress(value=1.0, bar_style='info', layout=Layout(flex='2'), max=1.0), HTML(value='')), …"
            ]
          },
          "metadata": {
            "tags": []
          }
        },
        {
          "output_type": "stream",
          "text": [
            "Downloading http://yann.lecun.com/exdb/mnist/train-images-idx3-ubyte.gz to /content/MNIST/raw/train-images-idx3-ubyte.gz\n"
          ],
          "name": "stdout"
        },
        {
          "output_type": "stream",
          "text": [
            "/usr/local/lib/python3.6/dist-packages/pytorch_lightning/utilities/warnings.py:18: RuntimeWarning: Displayed epoch numbers in the progress bar start from \"1\" until v0.6.x, but will start from \"0\" in v0.8.0.\n",
            "  warnings.warn(*args, **kwargs)\n"
          ],
          "name": "stderr"
        },
        {
          "output_type": "display_data",
          "data": {
            "application/vnd.jupyter.widget-view+json": {
              "model_id": "4ad8f9ca40b9434c809bb8320eaf880e",
              "version_minor": 0,
              "version_major": 2
            },
            "text/plain": [
              "HBox(children=(FloatProgress(value=1.0, bar_style='info', max=1.0), HTML(value='')))"
            ]
          },
          "metadata": {
            "tags": []
          }
        },
        {
          "output_type": "stream",
          "text": [
            "Extracting /content/MNIST/raw/train-images-idx3-ubyte.gz to /content/MNIST/raw\n",
            "Downloading http://yann.lecun.com/exdb/mnist/train-labels-idx1-ubyte.gz to /content/MNIST/raw/train-labels-idx1-ubyte.gz\n",
            "\n"
          ],
          "name": "stdout"
        },
        {
          "output_type": "display_data",
          "data": {
            "application/vnd.jupyter.widget-view+json": {
              "model_id": "6a94ff719378494989cff5ab48c3a5cf",
              "version_minor": 0,
              "version_major": 2
            },
            "text/plain": [
              "HBox(children=(FloatProgress(value=1.0, bar_style='info', max=1.0), HTML(value='')))"
            ]
          },
          "metadata": {
            "tags": []
          }
        },
        {
          "output_type": "stream",
          "text": [
            "Extracting /content/MNIST/raw/train-labels-idx1-ubyte.gz to /content/MNIST/raw\n",
            "Downloading http://yann.lecun.com/exdb/mnist/t10k-images-idx3-ubyte.gz to /content/MNIST/raw/t10k-images-idx3-ubyte.gz\n"
          ],
          "name": "stdout"
        },
        {
          "output_type": "display_data",
          "data": {
            "application/vnd.jupyter.widget-view+json": {
              "model_id": "74e02a36f2a54e7ebd3b3b00274d0fce",
              "version_minor": 0,
              "version_major": 2
            },
            "text/plain": [
              "HBox(children=(FloatProgress(value=1.0, bar_style='info', max=1.0), HTML(value='')))"
            ]
          },
          "metadata": {
            "tags": []
          }
        },
        {
          "output_type": "stream",
          "text": [
            "Extracting /content/MNIST/raw/t10k-images-idx3-ubyte.gz to /content/MNIST/raw\n",
            "Downloading http://yann.lecun.com/exdb/mnist/t10k-labels-idx1-ubyte.gz to /content/MNIST/raw/t10k-labels-idx1-ubyte.gz\n"
          ],
          "name": "stdout"
        },
        {
          "output_type": "display_data",
          "data": {
            "application/vnd.jupyter.widget-view+json": {
              "model_id": "8eea965837be4b468bbb852e18d8dde6",
              "version_minor": 0,
              "version_major": 2
            },
            "text/plain": [
              "HBox(children=(FloatProgress(value=1.0, bar_style='info', max=1.0), HTML(value='')))"
            ]
          },
          "metadata": {
            "tags": []
          }
        },
        {
          "output_type": "stream",
          "text": [
            "Extracting /content/MNIST/raw/t10k-labels-idx1-ubyte.gz to /content/MNIST/raw\n",
            "Processing...\n",
            "Done!\n",
            "\n",
            "\n"
          ],
          "name": "stdout"
        },
        {
          "output_type": "stream",
          "text": [
            "/usr/local/lib/python3.6/dist-packages/pytorch_lightning/utilities/warnings.py:18: UserWarning: The dataloader, train dataloader, does not have many workers which may be a bottleneck. Consider increasing the value of the `num_workers` argument` in the `DataLoader` init to improve performance.\n",
            "  warnings.warn(*args, **kwargs)\n"
          ],
          "name": "stderr"
        },
        {
          "output_type": "stream",
          "text": [
            "\n"
          ],
          "name": "stdout"
        },
        {
          "output_type": "execute_result",
          "data": {
            "text/plain": [
              "1"
            ]
          },
          "metadata": {
            "tags": []
          },
          "execution_count": 6
        }
      ]
    },
    {
      "cell_type": "markdown",
      "metadata": {
        "id": "ta6VcI8z6DvM",
        "colab_type": "text"
      },
      "source": [
        "## Explore your experiments in Neptune\n",
        "\n",
        "With just a few lines of code you get:\n",
        "\n",
        "\n",
        "* metrics logged and charts created\n",
        "* hyperparameters logged (if passed via hparams)\n",
        "* hardware monitoring\n",
        "* git info and execution script snapshoted and saved\n",
        "\n",
        "Click on the link that was outputed to the console or [go here](https://ui.neptune.ai/o/shared/org/pytorch-lightning-integration/e/PYTOR-121) to explore your experiment. \n",
        "\n",
        "It will look somewhat like thsi one:\n",
        "\n",
        "![image](https://neptune.ai/wp-content/uploads/lightning_basic.gif)\n",
        "\n",
        "but there are way more things you can take advantage of if you add just a few more lines. \n",
        "\n",
        "Let me show you what I mean.\n",
        "\n",
        "# Advanced Example\n",
        "\n",
        "## Log custom objects during training\n",
        "\n",
        "You can log:\n",
        "\n",
        "* additional metrics\n",
        "* images and charts\n",
        "* artifacts like model checkpoints during training.\n",
        "\n",
        "All you need to do is define what you want to log inside of one of the iteration loop methods.\n",
        "\n",
        "For example, let's log histogram of validation losses after every epoch.\n",
        "To do that we will access `self.logger.experiment` during `validation_end` call and use the `.log_image` method from Neptune. \n",
        "\n",
        "```python\n",
        "    def validation_end(self, outputs):\n",
        "        # OPTIONAL\n",
        "        avg_loss = torch.stack([x['val_loss'] for x in outputs]).mean()\n",
        "        tensorboard_logs = {'val_loss': avg_loss}\n",
        "\n",
        "        fig = plt.figure()\n",
        "        losses = np.stack([x['val_loss'].numpy() for x in outputs])\n",
        "        plt.hist(losses)\n",
        "        self.logger.experiment.log_image('loss_histograms', fig)\n",
        "\n",
        "        return {'avg_val_loss': avg_loss, 'log': tensorboard_logs}\n",
        "```\n",
        "\n",
        "Let's create a `pl.LightningModule` to see how it works."
      ]
    },
    {
      "cell_type": "code",
      "metadata": {
        "id": "g85_mosnxz56",
        "colab_type": "code",
        "colab": {}
      },
      "source": [
        "MAX_EPOCHS=7\n",
        "LR=0.02\n",
        "BATCHSIZE=32\n",
        "CHECKPOINTS_DIR = 'my_models/checkpoints'\n",
        "\n",
        "class AdvancedSystem(BasicSystem):\n",
        "\n",
        "    def validation_step(self, batch, batch_idx):\n",
        "        # OPTIONAL\n",
        "        x, y = batch\n",
        "        y_hat = self.forward(x)\n",
        "        return {'val_loss': F.cross_entropy(y_hat, y)}\n",
        "\n",
        "    def validation_end(self, outputs):\n",
        "        # OPTIONAL\n",
        "        avg_loss = torch.stack([x['val_loss'] for x in outputs]).mean()\n",
        "        tensorboard_logs = {'val_loss': avg_loss}\n",
        "\n",
        "        fig = plt.figure()\n",
        "        losses = np.stack([x['val_loss'].numpy() for x in outputs])\n",
        "        plt.hist(losses)\n",
        "        self.logger.experiment.log_image('loss_histograms', fig)\n",
        "\n",
        "        return {'avg_val_loss': avg_loss, 'log': tensorboard_logs}\n",
        "\n",
        "    def test_step(self, batch, batch_idx):\n",
        "        # OPTIONAL\n",
        "        x, y = batch\n",
        "        y_hat = self.forward(x)\n",
        "        return {'test_loss': F.cross_entropy(y_hat, y)}\n",
        "\n",
        "    def test_end(self, outputs):\n",
        "        # OPTIONAL\n",
        "        avg_loss = torch.stack([x['test_loss'] for x in outputs]).mean()\n",
        "        tensorboard_logs = {'test_loss': avg_loss}\n",
        "        return {'avg_test_loss': avg_loss, 'log': tensorboard_logs}\n",
        "\n",
        "    @pl.data_loader\n",
        "    def val_dataloader(self):\n",
        "        # OPTIONAL\n",
        "        return DataLoader(MNIST(os.getcwd(), train=True, download=True, transform=transforms.ToTensor()), batch_size=BATCHSIZE)\n",
        "\n",
        "    @pl.data_loader\n",
        "    def test_dataloader(self):\n",
        "        # OPTIONAL\n",
        "        return DataLoader(MNIST(os.getcwd(), train=False, download=True, transform=transforms.ToTensor()), batch_size=BATCHSIZE)"
      ],
      "execution_count": 0,
      "outputs": []
    },
    {
      "cell_type": "markdown",
      "metadata": {
        "id": "8ZMXx2rQ83Z_",
        "colab_type": "text"
      },
      "source": [
        "## Define NeptuneLogger with custom params\n",
        "\n",
        "We will also create a more advanced `NeptuneLogger` that contains information about hyperparameters, add tags to make runs organized, and define which scripts we want to snapshot.\n",
        "\n",
        "Also, I will use the `close_after_fit=False` argument to make sure that the logger doesn't close after the `.fit` loop ends."
      ]
    },
    {
      "cell_type": "code",
      "metadata": {
        "id": "hqs2hTD8yAyu",
        "colab_type": "code",
        "colab": {}
      },
      "source": [
        "neptune_logger = NeptuneLogger(\n",
        "    api_key=\"ANONYMOUS\",\n",
        "    project_name=\"shared/pytorch-lightning-integration\",\n",
        "    close_after_fit=False,\n",
        "    experiment_name=\"default\",  # Optional,\n",
        "    params={\"max_epochs\": MAX_EPOCHS,\n",
        "            \"batch_size\": BATCHSIZE,\n",
        "            \"lr\": LR}, # Optional,\n",
        "    tags=[\"pytorch-lightning\", \"mlp\"],\n",
        "    upload_source_files=['*.py','*.yaml'],\n",
        ")"
      ],
      "execution_count": 0,
      "outputs": []
    },
    {
      "cell_type": "markdown",
      "metadata": {
        "id": "Sfr85ZBm9QAw",
        "colab_type": "text"
      },
      "source": [
        "## Pass neptune_logger to the Trainer\n",
        "\n",
        "Again we need to pass `neptune_logger` to the `Trainer` object:"
      ]
    },
    {
      "cell_type": "code",
      "metadata": {
        "id": "Vbn5fv0Izld0",
        "colab_type": "code",
        "colab": {}
      },
      "source": [
        "from pytorch_lightning import Trainer\n",
        "\n",
        "model_checkpoint = pl.callbacks.ModelCheckpoint(filepath=CHECKPOINTS_DIR)\n",
        "\n",
        "advanced_model = AdvancedSystem()\n",
        "trainer = Trainer(max_epochs=MAX_EPOCHS,\n",
        "                  logger=neptune_logger,\n",
        "                  checkpoint_callback=model_checkpoint,\n",
        "                  )\n",
        "trainer.fit(advanced_model)"
      ],
      "execution_count": 0,
      "outputs": []
    },
    {
      "cell_type": "markdown",
      "metadata": {
        "id": "e92BRaEZ9XZs",
        "colab_type": "text"
      },
      "source": [
        "and we can explore our run in Neptune.\n",
        "\n",
        "But since we specified `close_after_fit=False` we can log additional things like:\n",
        "\n",
        "### Test metrics from `.test(...)` call "
      ]
    },
    {
      "cell_type": "code",
      "metadata": {
        "id": "5dIfb4iBxswP",
        "colab_type": "code",
        "colab": {}
      },
      "source": [
        "trainer.test(advanced_model)"
      ],
      "execution_count": 0,
      "outputs": []
    },
    {
      "cell_type": "markdown",
      "metadata": {
        "id": "YAVuxyQS9o0h",
        "colab_type": "text"
      },
      "source": [
        "### Custom metrics \n",
        "\n",
        "We can log metrics that we want to calculate after .fit ends.\n",
        "For example let's calculate `accuracy_score` and use `.log_metric` method to log it to Neptune."
      ]
    },
    {
      "cell_type": "code",
      "metadata": {
        "id": "IjEhpzfAxq0Z",
        "colab_type": "code",
        "colab": {}
      },
      "source": [
        "import numpy as np\n",
        "\n",
        "model.freeze()\n",
        "test_loader = DataLoader(MNIST(os.getcwd(), train=False, download=True, transform=transforms.ToTensor()), batch_size=256)\n",
        "\n",
        "y_true, y_pred = [],[]\n",
        "for i, (x, y) in enumerate(test_loader):\n",
        "    y_hat = model.forward(x).argmax(axis=1).cpu().detach().numpy()\n",
        "    y = y.cpu().detach().numpy()\n",
        "\n",
        "    y_true.append(y)\n",
        "    y_pred.append(y_hat)\n",
        "\n",
        "    if i == len(test_loader):\n",
        "        break\n",
        "y_true = np.hstack(y_true)\n",
        "y_pred = np.hstack(y_pred)\n",
        "\n",
        "# Log additional metrics\n",
        "from sklearn.metrics import accuracy_score\n",
        "\n",
        "accuracy = accuracy_score(y_true, y_pred)\n",
        "neptune_logger.experiment.log_metric('test_accuracy', accuracy)"
      ],
      "execution_count": 0,
      "outputs": []
    },
    {
      "cell_type": "markdown",
      "metadata": {
        "id": "4Lj6vJs19ymf",
        "colab_type": "text"
      },
      "source": [
        "### Performance charts\n",
        "\n",
        "You can log performance charts like ROC AUC or Confusion Matrix.\n",
        "\n",
        "Just use `.log_image` method on a matplotlib figure you want to log."
      ]
    },
    {
      "cell_type": "code",
      "metadata": {
        "id": "vBdh5uzcxnDg",
        "colab_type": "code",
        "colab": {}
      },
      "source": [
        "from scikitplot.metrics import plot_confusion_matrix\n",
        "import matplotlib.pyplot as plt\n",
        "\n",
        "fig, ax = plt.subplots(figsize=(16, 12))\n",
        "plot_confusion_matrix(y_true, y_pred, ax=ax)\n",
        "neptune_logger.experiment.log_image('confusion_matrix', fig)"
      ],
      "execution_count": 0,
      "outputs": []
    },
    {
      "cell_type": "markdown",
      "metadata": {
        "id": "WaLmZXGv-LpH",
        "colab_type": "text"
      },
      "source": [
        "# Log artifacts\n",
        "\n",
        "You can log any file to Neptune. just use the `.log_artifact` method.\n",
        "\n",
        "For example, we can log the entire 'CHECKPOINTS_DIR' directory."
      ]
    },
    {
      "cell_type": "code",
      "metadata": {
        "id": "bTrDV7nNxkuv",
        "colab_type": "code",
        "colab": {}
      },
      "source": [
        "neptune_logger.experiment.log_artifact(CHECKPOINTS_DIR)"
      ],
      "execution_count": 0,
      "outputs": []
    },
    {
      "cell_type": "markdown",
      "metadata": {
        "id": "VnD5OhCZ-cG_",
        "colab_type": "text"
      },
      "source": [
        "# Stop the logger\n",
        "\n",
        "After everything is done you need to stop the logger."
      ]
    },
    {
      "cell_type": "code",
      "metadata": {
        "id": "yGMl492CxfQC",
        "colab_type": "code",
        "colab": {}
      },
      "source": [
        "# You can stop the experiment\n",
        "neptune_logger.experiment.stop()"
      ],
      "execution_count": 0,
      "outputs": []
    },
    {
      "cell_type": "markdown",
      "metadata": {
        "id": "ivaymA_e-ghn",
        "colab_type": "text"
      },
      "source": [
        "## Explore in Neptune\n",
        "\n",
        "Now you can explore everything you logged in Neptune.\n",
        "\n",
        "You can use your link or go check out [this experiment](https://ui.neptune.ai/o/shared/org/pytorch-lightning-integration/e/PYTOR-119/logs):\n",
        "\n",
        "![image](https://neptune.ai/wp-content/uploads/lightning_advanced.gif)\n",
        "\n",
        "# Fetch experiments after training\n",
        "\n",
        "Neptune lets you access everything you logged programatically.\n",
        "\n",
        "## Fetch experiment dashboard\n",
        "\n",
        "You can get the dashboard table into `pandas.DataFrame`"
      ]
    },
    {
      "cell_type": "code",
      "metadata": {
        "id": "x8xrAKV__EEn",
        "colab_type": "code",
        "colab": {}
      },
      "source": [
        "import neptune\n",
        "\n",
        "project = neptune.init(api_key=\"ANONYMOUS\",\n",
        "                       project_qualified_name='shared/pytorch-lightning-integration')\n",
        "project.get_leaderboard().head(3)"
      ],
      "execution_count": 0,
      "outputs": []
    },
    {
      "cell_type": "markdown",
      "metadata": {
        "id": "ml44O_-L_IJg",
        "colab_type": "text"
      },
      "source": [
        "## Visualize experiments with Hiplot\n",
        "\n",
        "With [Neptune - HiPlot integration](https://docs.neptune.ai/integrations/hiplot.html) you can visualize all your experiment metrics and hyperparameters. "
      ]
    },
    {
      "cell_type": "code",
      "metadata": {
        "id": "JgSZecf5_joA",
        "colab_type": "code",
        "colab": {}
      },
      "source": [
        "from neptunecontrib.viz.parallel_coordinates_plot import make_parallel_coordinates_plot\n",
        "\n",
        "make_parallel_coordinates_plot(metrics= ['train_loss', 'val_loss', 'test_accuracy'],\n",
        "                               params = ['max_epochs', 'batch_size', 'lr'])"
      ],
      "execution_count": 0,
      "outputs": []
    },
    {
      "cell_type": "markdown",
      "metadata": {
        "id": "3uZ8Cz1__n5L",
        "colab_type": "text"
      },
      "source": [
        "![image](https://neptune.ai/wp-content/uploads/lightning_hiplot.gif)\n",
        "\n",
        "## Update Experiment\n",
        "\n",
        "You can also fetch a single experiment and update it with some external metric calculated after training.\n"
      ]
    },
    {
      "cell_type": "code",
      "metadata": {
        "id": "bWVGxs-S_vAC",
        "colab_type": "code",
        "colab": {}
      },
      "source": [
        "exp = project.get_experiments(id='PYTOR-63')[0]\n",
        "exp.log_metric('some_external_metric', 0.92)"
      ],
      "execution_count": 0,
      "outputs": []
    },
    {
      "cell_type": "markdown",
      "metadata": {
        "id": "RS6EVd2c_zYf",
        "colab_type": "text"
      },
      "source": [
        "## Create your free account\n",
        "\n",
        "The best part is, Neptune is completely free for individuals and research teams so you can go ahead and [create your free account](https://neptune.ai?utm_source=colab&utm_medium=notebook&utm_campaign=integration-pytorch-lightning) and check it out for yourself."
      ]
    }
  ]
}
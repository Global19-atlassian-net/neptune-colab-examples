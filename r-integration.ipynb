{
  "nbformat": 4,
  "nbformat_minor": 0,
  "metadata": {
    "colab": {
      "name": "Untitled1.ipynb",
      "provenance": [],
      "collapsed_sections": []
    },
    "kernelspec": {
      "name": "ir",
      "display_name": "R"
    }
  },
  "cells": [
    {
      "cell_type": "markdown",
      "metadata": {
        "id": "X9Mejpf-WzGO",
        "colab_type": "text"
      },
      "source": [
        "# Installation\n",
        "\n",
        "Since Neptune is available on CRAN you can simpy use `install.packages` function.\n",
        "\n",
        "For this tutorial I'll need a few more packages and those are listed below.\n",
        "\n"
      ]
    },
    {
      "cell_type": "code",
      "metadata": {
        "id": "jk1fIqH74qXb",
        "colab_type": "code",
        "outputId": "b6f4370b-fcfd-441d-e350-bc877fa25461",
        "colab": {
          "base_uri": "https://localhost:8080/",
          "height": 241
        }
      },
      "source": [
        "# install neptune\n",
        "install.packages('neptune', dependencies = TRUE)\n",
        "\n",
        "# install other packages for this tutorial\n",
        "install.packages(c('digest', 'randomForest', ' ggplot2'), dependencies = TRUE)"
      ],
      "execution_count": 0,
      "outputs": [
        {
          "output_type": "stream",
          "text": [
            "Installing package into ‘/usr/local/lib/R/site-library’\n",
            "(as ‘lib’ is unspecified)\n",
            "\n",
            "also installing the dependencies ‘rappdirs’, ‘reticulate’\n",
            "\n",
            "\n",
            "Installing packages into ‘/usr/local/lib/R/site-library’\n",
            "(as ‘lib’ is unspecified)\n",
            "\n",
            "also installing the dependencies ‘bitops’, ‘numDeriv’, ‘SQUAREM’, ‘httpuv’, ‘xtable’, ‘sourcetools’, ‘fastmap’, ‘gdata’, ‘caTools’, ‘TH.data’, ‘profileModel’, ‘minqa’, ‘nloptr’, ‘statmod’, ‘RcppEigen’, ‘plotrix’, ‘lava’, ‘shiny’, ‘miniUI’, ‘classInt’, ‘labelled’, ‘gplots’, ‘libcoin’, ‘matrixStats’, ‘multcomp’, ‘iterators’, ‘data.table’, ‘gower’, ‘timeDate’, ‘brglm’, ‘gtools’, ‘lme4’, ‘qvcalc’, ‘Formula’, ‘plotmo’, ‘TeachingDemos’, ‘prodlim’, ‘combinat’, ‘questionr’, ‘ROCR’, ‘mvtnorm’, ‘modeltools’, ‘strucchange’, ‘coin’, ‘zoo’, ‘sandwich’, ‘ISwR’, ‘corpcor’, ‘foreach’, ‘ModelMetrics’, ‘recipes’, ‘pROC’, ‘BradleyTerry2’, ‘e1071’, ‘earth’, ‘fastICA’, ‘gam’, ‘ipred’, ‘kernlab’, ‘klaR’, ‘ellipse’, ‘mda’, ‘MLmetrics’, ‘party’, ‘pls’, ‘proxy’, ‘RANN’, ‘spls’, ‘subselect’, ‘pamr’, ‘superpc’, ‘Cubist’, ‘tinytest’\n",
            "\n",
            "\n"
          ],
          "name": "stderr"
        }
      ]
    },
    {
      "cell_type": "markdown",
      "metadata": {
        "id": "btWLay1NWzrD",
        "colab_type": "text"
      },
      "source": [
        "## Load packages and data\n",
        "\n",
        "Nothing fancy here."
      ]
    },
    {
      "cell_type": "code",
      "metadata": {
        "id": "etd3EwXr4yLl",
        "colab_type": "code",
        "colab": {}
      },
      "source": [
        "# load libraries\n",
        "library(neptune)\n",
        "library(digest)\n",
        "library(randomForest)\n",
        "\n",
        "SEED=1234\n",
        "set.seed(SEED)\n",
        "\n",
        "# load dataset \n",
        "data(Sonar)\n",
        "dataset <- Sonar\n",
        "x <- dataset[,1:60]   # predictors\n",
        "y <- dataset[,61]     # labels"
      ],
      "execution_count": 0,
      "outputs": []
    },
    {
      "cell_type": "markdown",
      "metadata": {
        "id": "YAufzFsCaCUK",
        "colab_type": "text"
      },
      "source": [
        "# Initialize Neptune\n",
        "\n",
        "In order to start logging things to Neptune you need to \"connect\" your script to Neptune service. \n",
        "\n",
        "Since Neptune is working on top of \"reticulate\" and Python you may need to specify your Python environment with `python` and `python_path` arguments."
      ]
    },
    {
      "cell_type": "code",
      "metadata": {
        "id": "cS-nSl2j42zY",
        "colab_type": "code",
        "outputId": "52567c56-5be6-4b6e-de7b-ccce6849f0bb",
        "colab": {
          "base_uri": "https://localhost:8080/",
          "height": 418
        }
      },
      "source": [
        "init_neptune(project_name = 'shared/r-integration',\n",
        "             api_token = 'ANONYMOUS',\n",
        "             )"
      ],
      "execution_count": 0,
      "outputs": [
        {
          "output_type": "stream",
          "text": [
            "couldn't import neptune client. Trying to install\n",
            "\n"
          ],
          "name": "stderr"
        },
        {
          "output_type": "error",
          "ename": "ERROR",
          "evalue": "ignored",
          "traceback": [
            "Error: could not find a Python environment for /usr/bin/python3\nTraceback:\n",
            "1. init_neptune(project_name = \"shared/r-integration\", api_token = \"ANONYMOUS\")",
            "2. tryCatch({\n .     neptune <- reticulate::import(\"neptune\")\n . }, error = function(e) {\n .     message(\"couldn't import neptune client. Trying to install\")\n .     install_neptune()\n .     neptune <- reticulate::import(\"neptune\")\n . })",
            "3. tryCatchList(expr, classes, parentenv, handlers)",
            "4. tryCatchOne(expr, names, parentenv, handlers[[1L]])",
            "5. value[[3L]](cond)",
            "6. install_neptune()",
            "7. reticulate::py_install(packages = \"neptune-client\")",
            "8. python_info(python)",
            "9. stopf(\"could not find a Python environment for %s\", python)",
            "10. stop(sprintf(fmt, ...), call. = call.)"
          ]
        }
      ]
    },
    {
      "cell_type": "markdown",
      "metadata": {
        "id": "HHA0KjZnai-H",
        "colab_type": "text"
      },
      "source": [
        "# Create Experiment\n",
        "\n",
        "To start tracking your work you need to create a Neptune experiment. \n",
        "\n",
        "You can name your experiment, add tags to organize things and track hyperparameters of your ML models."
      ]
    },
    {
      "cell_type": "code",
      "metadata": {
        "id": "peu1BSjO46td",
        "colab_type": "code",
        "colab": {}
      },
      "source": [
        "params = list(ntree=100,\n",
        "              mtry=10,\n",
        "              maxnodes=20\n",
        "              )\n",
        "\n",
        "create_experiment(name='training on Sonar', \n",
        "                  tags=c('random-forest','sonar'),\n",
        "                  params = params\n",
        ")"
      ],
      "execution_count": 0,
      "outputs": []
    },
    {
      "cell_type": "markdown",
      "metadata": {
        "id": "G7Yo4Wi8a0X3",
        "colab_type": "text"
      },
      "source": [
        "# Set properties\n",
        "\n",
        "You can also use `set_property` function to save `key:value` pairs.\n",
        "\n",
        "For example, I'll keep track of the `data version` and random `seed`."
      ]
    },
    {
      "cell_type": "code",
      "metadata": {
        "id": "05AzjZO75CyY",
        "colab_type": "code",
        "colab": {}
      },
      "source": [
        "set_property(property = 'data-version', value = digest(dataset))\n",
        "set_property(property = 'seed', value = SEED)"
      ],
      "execution_count": 0,
      "outputs": []
    },
    {
      "cell_type": "markdown",
      "metadata": {
        "id": "J_87SA8mbGi-",
        "colab_type": "text"
      },
      "source": [
        "# Train your model\n",
        "\n",
        "I defined hyperparameters in the `params` list and I will pass them directly into `randomForest`."
      ]
    },
    {
      "cell_type": "code",
      "metadata": {
        "id": "kTjXdOwY5GoG",
        "colab_type": "code",
        "colab": {}
      },
      "source": [
        "model <- randomForest(x = x, y = y,\n",
        "  ntree=params$ntree, mtry = params$mtry, maxnodes = params$maxnodes,\n",
        "  importance = TRUE\n",
        "  )"
      ],
      "execution_count": 0,
      "outputs": []
    },
    {
      "cell_type": "markdown",
      "metadata": {
        "id": "jHeWztZpY8uq",
        "colab_type": "text"
      },
      "source": [
        "# Log metrics \n",
        "\n",
        "Logging metrics to Neptune is trivial.\n",
        "\n",
        "For example, I will log mean out-of-bag error and errors per class taken from the confusion matrix.\n"
      ]
    },
    {
      "cell_type": "code",
      "metadata": {
        "id": "5j97EL_L5Mc5",
        "colab_type": "code",
        "colab": {}
      },
      "source": [
        "log_metric('mean OOB error', mean(model$err.rate[,1]))\n",
        "log_metric('error class M', model$confusion[1,3])\n",
        "log_metric('error class R', model$confusion[2,3])"
      ],
      "execution_count": 0,
      "outputs": []
    },
    {
      "cell_type": "markdown",
      "metadata": {
        "id": "G-IAS_d8ZxBK",
        "colab_type": "text"
      },
      "source": [
        "You can also log multiple values to the same channel. \n",
        "\n",
        "If you do that, Neptune will automatically create charts for you."
      ]
    },
    {
      "cell_type": "code",
      "metadata": {
        "id": "l-J2zXBXZlbS",
        "colab_type": "code",
        "colab": {}
      },
      "source": [
        "for (err in (model$err.rate[,1])) {\n",
        "  log_metric('OOB errors', err)\n",
        "}"
      ],
      "execution_count": 0,
      "outputs": []
    },
    {
      "cell_type": "markdown",
      "metadata": {
        "colab_type": "text",
        "id": "WaLmZXGv-LpH"
      },
      "source": [
        "# Log artifacts\n",
        "\n",
        "You can log any file to Neptune. just use the `log_artifact` function.\n",
        "\n",
        "For example, we can log our `model.Rdata` file."
      ]
    },
    {
      "cell_type": "code",
      "metadata": {
        "id": "gKag2lIA5RB-",
        "colab_type": "code",
        "colab": {}
      },
      "source": [
        "save(model, file=\"model.Rdata\")\n",
        "log_artifact('model.Rdata')"
      ],
      "execution_count": 0,
      "outputs": []
    },
    {
      "cell_type": "markdown",
      "metadata": {
        "id": "IuheqrfVYd9l",
        "colab_type": "text"
      },
      "source": [
        "# Log charts\n",
        "\n",
        "You can log performance charts like ROC AUC, Confusion Matrix or anything else you think is important.\n",
        "\n",
        "You need to specify the log channel to which you want to log it and push a chart file there.\n",
        "\n",
        "For example, I'll log two versions of feature importance visualizations to Neptune."
      ]
    },
    {
      "cell_type": "code",
      "metadata": {
        "id": "SBcI4AeI5T7M",
        "colab_type": "code",
        "colab": {}
      },
      "source": [
        "for (t in c(1,2)){\n",
        "  jpeg('temp_plot.jpeg')\n",
        "  varImpPlot(model,type=t)\n",
        "  dev.off()\n",
        "  log_image('feature_importance', 'temp_plot.jpeg')\n",
        "}"
      ],
      "execution_count": 0,
      "outputs": []
    },
    {
      "cell_type": "markdown",
      "metadata": {
        "id": "X9DSsw_KYM50",
        "colab_type": "text"
      },
      "source": [
        "# Stop the experiment\n",
        "\n",
        "After everything is done you need to stop the experiment.\n",
        "\n",
        "Thanks to `create_experiment` and `stop_experiment` functions you can create multiple experiments in a single script."
      ]
    },
    {
      "cell_type": "code",
      "metadata": {
        "id": "HyF7vBss4jOZ",
        "colab_type": "code",
        "colab": {}
      },
      "source": [
        "stop_experiment()"
      ],
      "execution_count": 0,
      "outputs": []
    },
    {
      "cell_type": "markdown",
      "metadata": {
        "id": "77iN5e1xXrsu",
        "colab_type": "text"
      },
      "source": [
        "# Explore experiments in Neptune\n",
        "\n",
        "Now you can explore everything you logged in Neptune.\n",
        "\n",
        "You can use your link or go check out [this experiment dashboard](https://ui.neptune.ai/o/shared/org/r-integration/experiments?viewId=fa3b57a5-77fb-4edb-83fc-505014d3649d):\n",
        "\n",
        "![image](https://neptune.ai/wp-content/uploads/r-integration-tour.gif)\n",
        "\n",
        "## Create your free account\n",
        "\n",
        "The best part is, Neptune is completely free for individuals and research teams so you can go ahead and [create your free account](https://neptune.ai?utm_source=colab&utm_medium=notebook&utm_campaign=integration-r) and check it out for yourself."
      ]
    },
    {
      "cell_type": "code",
      "metadata": {
        "id": "3rHVrgZpYBxa",
        "colab_type": "code",
        "colab": {}
      },
      "source": [
        ""
      ],
      "execution_count": 0,
      "outputs": []
    }
  ]
}
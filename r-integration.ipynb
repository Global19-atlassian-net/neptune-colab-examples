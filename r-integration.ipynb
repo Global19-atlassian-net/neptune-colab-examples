{
  "nbformat": 4,
  "nbformat_minor": 0,
  "metadata": {
    "colab": {
      "name": "Untitled1.ipynb",
      "provenance": [],
      "collapsed_sections": []
    },
    "kernelspec": {
      "name": "ir",
      "display_name": "R"
    }
  },
  "cells": [
    {
      "cell_type": "code",
      "metadata": {
        "id": "jk1fIqH74qXb",
        "colab_type": "code",
        "colab": {
          "base_uri": "https://localhost:8080/",
          "height": 241
        },
        "outputId": "b6f4370b-fcfd-441d-e350-bc877fa25461"
      },
      "source": [
        "# install neptune\n",
        "install.packages('neptune', dependencies = TRUE)\n",
        "\n",
        "# install other packages for this tutorial\n",
        "install.packages(c('caret','digest', 'mlbench', 'randomForest'), dependencies = TRUE)"
      ],
      "execution_count": 1,
      "outputs": [
        {
          "output_type": "stream",
          "text": [
            "Installing package into ‘/usr/local/lib/R/site-library’\n",
            "(as ‘lib’ is unspecified)\n",
            "\n",
            "also installing the dependencies ‘rappdirs’, ‘reticulate’\n",
            "\n",
            "\n",
            "Installing packages into ‘/usr/local/lib/R/site-library’\n",
            "(as ‘lib’ is unspecified)\n",
            "\n",
            "also installing the dependencies ‘bitops’, ‘numDeriv’, ‘SQUAREM’, ‘httpuv’, ‘xtable’, ‘sourcetools’, ‘fastmap’, ‘gdata’, ‘caTools’, ‘TH.data’, ‘profileModel’, ‘minqa’, ‘nloptr’, ‘statmod’, ‘RcppEigen’, ‘plotrix’, ‘lava’, ‘shiny’, ‘miniUI’, ‘classInt’, ‘labelled’, ‘gplots’, ‘libcoin’, ‘matrixStats’, ‘multcomp’, ‘iterators’, ‘data.table’, ‘gower’, ‘timeDate’, ‘brglm’, ‘gtools’, ‘lme4’, ‘qvcalc’, ‘Formula’, ‘plotmo’, ‘TeachingDemos’, ‘prodlim’, ‘combinat’, ‘questionr’, ‘ROCR’, ‘mvtnorm’, ‘modeltools’, ‘strucchange’, ‘coin’, ‘zoo’, ‘sandwich’, ‘ISwR’, ‘corpcor’, ‘foreach’, ‘ModelMetrics’, ‘recipes’, ‘pROC’, ‘BradleyTerry2’, ‘e1071’, ‘earth’, ‘fastICA’, ‘gam’, ‘ipred’, ‘kernlab’, ‘klaR’, ‘ellipse’, ‘mda’, ‘MLmetrics’, ‘party’, ‘pls’, ‘proxy’, ‘RANN’, ‘spls’, ‘subselect’, ‘pamr’, ‘superpc’, ‘Cubist’, ‘tinytest’\n",
            "\n",
            "\n"
          ],
          "name": "stderr"
        }
      ]
    },
    {
      "cell_type": "code",
      "metadata": {
        "id": "etd3EwXr4yLl",
        "colab_type": "code",
        "colab": {}
      },
      "source": [
        "# load libraries\n",
        "library(neptune)\n",
        "library(caret)\n",
        "library(digest)\n",
        "library(mlbench)\n",
        "library(randomForest)\n",
        "\n",
        "SEED=1234\n",
        "set.seed(SEED)\n",
        "\n",
        "# load dataset\n",
        "data(Sonar)\n",
        "dataset <- Sonar\n",
        "x <- dataset[,1:60]   # predictors\n",
        "y <- dataset[,61]     # labels"
      ],
      "execution_count": 0,
      "outputs": []
    },
    {
      "cell_type": "code",
      "metadata": {
        "id": "cS-nSl2j42zY",
        "colab_type": "code",
        "colab": {
          "base_uri": "https://localhost:8080/",
          "height": 418
        },
        "outputId": "52567c56-5be6-4b6e-de7b-ccce6849f0bb"
      },
      "source": [
        "# Initialize Neptune\n",
        "# You may want to specify your python environment with 'python' and 'python_path' arguments.\n",
        "init_neptune(project_name = 'shared/r-integration',\n",
        "             api_token = 'ANONYMOUS')"
      ],
      "execution_count": 42,
      "outputs": [
        {
          "output_type": "stream",
          "text": [
            "couldn't import neptune client. Trying to install\n",
            "\n"
          ],
          "name": "stderr"
        },
        {
          "output_type": "error",
          "ename": "ERROR",
          "evalue": "ignored",
          "traceback": [
            "Error: could not find a Python environment for /usr/bin/python3\nTraceback:\n",
            "1. init_neptune(project_name = \"shared/r-integration\", api_token = \"ANONYMOUS\")",
            "2. tryCatch({\n .     neptune <- reticulate::import(\"neptune\")\n . }, error = function(e) {\n .     message(\"couldn't import neptune client. Trying to install\")\n .     install_neptune()\n .     neptune <- reticulate::import(\"neptune\")\n . })",
            "3. tryCatchList(expr, classes, parentenv, handlers)",
            "4. tryCatchOne(expr, names, parentenv, handlers[[1L]])",
            "5. value[[3L]](cond)",
            "6. install_neptune()",
            "7. reticulate::py_install(packages = \"neptune-client\")",
            "8. python_info(python)",
            "9. stopf(\"could not find a Python environment for %s\", python)",
            "10. stop(sprintf(fmt, ...), call. = call.)"
          ]
        }
      ]
    },
    {
      "cell_type": "code",
      "metadata": {
        "id": "peu1BSjO46td",
        "colab_type": "code",
        "colab": {}
      },
      "source": [
        "# Start an experiment and track hyperparameters\n",
        "\n",
        "params = list(metric=\"Accuracy\",\n",
        "              tuneLength=100,\n",
        "              model=\"rf\",\n",
        "              searchMethod=\"random\",\n",
        "              cvMethod=\"repeatedcv\",\n",
        "              cvFolds=2,\n",
        "              cvRepeats=1)\n",
        "\n",
        "create_experiment(name='training on Sonar',\n",
        "                  tags=c('random-forest','sonar', 'caret'),\n",
        "                  params = params\n",
        ")"
      ],
      "execution_count": 0,
      "outputs": []
    },
    {
      "cell_type": "code",
      "metadata": {
        "id": "05AzjZO75CyY",
        "colab_type": "code",
        "colab": {}
      },
      "source": [
        "# track data version and SEED\n",
        "set_property(property = 'data-version', value = digest(dataset))\n",
        "set_property(property = 'seed', value = SEED)"
      ],
      "execution_count": 0,
      "outputs": []
    },
    {
      "cell_type": "code",
      "metadata": {
        "id": "kTjXdOwY5GoG",
        "colab_type": "code",
        "colab": {}
      },
      "source": [
        "# train your model\n",
        "control <- trainControl(method=params$cvMethod,\n",
        "                        number=params$cvFolds,\n",
        "                        repeats=params$cvRepeats,\n",
        "                        search=params$searchMethod)\n",
        "\n",
        "model <- train(Class ~ ., data=dataset,\n",
        "                method=params$model,\n",
        "                metric=params$metric,\n",
        "                tuneLength=params$tuneLength,\n",
        "                trControl=control)"
      ],
      "execution_count": 0,
      "outputs": []
    },
    {
      "cell_type": "code",
      "metadata": {
        "id": "5j97EL_L5Mc5",
        "colab_type": "code",
        "colab": {}
      },
      "source": [
        "# Log metrics\n",
        "scores <- getTrainPerf(model)\n",
        "log_metric('Train Accuracy', scores$TrainAccuracy)\n",
        "log_metric('Train Kappa', scores$TrainKappa)\n",
        "\n",
        "for (name in names(model$bestTune)) {\n",
        "  set_property(name, model$bestTune[[name]])\n",
        "}\n",
        "\n",
        "for (acc in model$results$Accuracy){\n",
        "  log_metric('Accuracy', acc)\n",
        "}\n",
        "\n",
        "for (kappa in model$results$Kappa){\n",
        "  log_metric('Kappa', kappa)\n",
        "}"
      ],
      "execution_count": 0,
      "outputs": []
    },
    {
      "cell_type": "code",
      "metadata": {
        "id": "gKag2lIA5RB-",
        "colab_type": "code",
        "colab": {}
      },
      "source": [
        "# Log artifact\n",
        "save(model, file=\"model.Rdata\")\n",
        "log_artifact('model.Rdata')"
      ],
      "execution_count": 0,
      "outputs": []
    },
    {
      "cell_type": "code",
      "metadata": {
        "id": "SBcI4AeI5T7M",
        "colab_type": "code",
        "colab": {}
      },
      "source": [
        "# Log image\n",
        "ggplot(model) + geom_line(color='steelblue') + geom_point(color='steelblue', size=5)\n",
        "ggsave('param_plot.jpeg')\n",
        "log_image('parameter_search', 'param_plot.jpeg')"
      ],
      "execution_count": 0,
      "outputs": []
    },
    {
      "cell_type": "code",
      "metadata": {
        "id": "HyF7vBss4jOZ",
        "colab_type": "code",
        "colab": {}
      },
      "source": [
        "# Stop Experiment\n",
        "stop_experiment()"
      ],
      "execution_count": 0,
      "outputs": []
    }
  ]
}